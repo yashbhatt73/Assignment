{
 "cells": [
  {
   "cell_type": "markdown",
   "id": "f88e88f0-94de-4a82-b5b0-799c7d5d0ba5",
   "metadata": {},
   "source": [
    "Q1 What is the role of try and exception block ?\n",
    "\n",
    "In python try and except blocks are use to handling the exceptions in the program. In the try block the main code is there and in except block there is the exception if any in try block. If there is any exception in try block then the exception block will get execute and if not then try block will get execute. The exception handling is used to prevent the code by terminating if there is any error in it. "
   ]
  },
  {
   "cell_type": "markdown",
   "id": "a661d707-21b3-4c36-b7fb-45b67301af11",
   "metadata": {},
   "source": [
    "Q2 What is the syntax for a basic try-except block ?\n",
    "Syntax:-\n",
    "try:\n",
    "    main code \n",
    "except Exception as e:\n",
    "    exception if there is"
   ]
  },
  {
   "cell_type": "markdown",
   "id": "06ffc099-41b3-4b6f-97e2-fc49a9e3a09c",
   "metadata": {},
   "source": [
    "Q3 What happens if an exception occurs inside a try block and there is no matching except block?\n",
    "\n",
    "In python if there is no matching exception block in code it does not handle the exception and the program will get terminated where the exception is. After that python will display a traceback which will show the actual type of error, message error and the line of code where the exception is occured. It helps in debugging the code.\n",
    "\n"
   ]
  },
  {
   "cell_type": "markdown",
   "id": "83a51c86-bc73-49e5-9548-f672762a96c6",
   "metadata": {},
   "source": [
    "Q4 What is the difference between using a bare except block and specifying a specific exception type?\n",
    "\n",
    "It is always better to specify specific exception while handling exception. The difference in using bare excption and specific exception is it gets esier to handle the exception while using specific exception but it will cought that same time of exception. On other hand it is little dificult to handle exception while using bare exception, but bare exception can handle or catches each and every type of excption."
   ]
  },
  {
   "cell_type": "code",
   "execution_count": 9,
   "id": "c1bc2ff9-9d64-47dd-bdaf-44887cbe55ed",
   "metadata": {},
   "outputs": [
    {
     "name": "stdin",
     "output_type": "stream",
     "text": [
      "Enter a :  10\n",
      "Enter b :  5\n"
     ]
    },
    {
     "name": "stdout",
     "output_type": "stream",
     "text": [
      "The division of 10 and 5 is 2\n"
     ]
    }
   ],
   "source": [
    "# Q5 Can you have nested try-except blocks in Python? If yes, then give an example.\n",
    "\n",
    "# Yes in python there is nested try-except block and we can use it.\n",
    "# Example:\n",
    "try:\n",
    "    a=int(input(\"Enter a : \"))\n",
    "    b=int(input(\"Enter b : \"))\n",
    "    try:\n",
    "        x= a/b\n",
    "        print(f\"The division of {a} and {b} is {x}\")\n",
    "    except ZeroDivisionError:\n",
    "        print(\"Error: You can't divide by zero \")\n",
    "    \n",
    "except ValueError:\n",
    "    print(\"Error: Invalid input Please enter a int value.\")\n",
    "\n"
   ]
  },
  {
   "cell_type": "code",
   "execution_count": 15,
   "id": "ba051866-dae6-42f5-b6f2-17871ab567cd",
   "metadata": {},
   "outputs": [
    {
     "name": "stdin",
     "output_type": "stream",
     "text": [
      "Enter a :  10\n",
      "Enter b :  2\n"
     ]
    },
    {
     "name": "stdout",
     "output_type": "stream",
     "text": [
      "The division of 10 and 2 is 5.0\n"
     ]
    }
   ],
   "source": [
    "# Q6Can we use multiple exception blocks, if yes then give an example.\n",
    "# Yes in python we can use multiple exception block.\n",
    "try:\n",
    "    a=int(input(\"Enter a : \"))\n",
    "    b=int(input(\"Enter b : \"))\n",
    "    x= a/b\n",
    "    print(f\"The division of {a} and {b} is {x}\")\n",
    "except ValueError:\n",
    "    print(\"Error: Invalid input Please enter a int value.\")\n",
    "except ZeroDivisionError:\n",
    "    print(\"Error: You can't divide by zero \")\n",
    "    "
   ]
  },
  {
   "cell_type": "markdown",
   "id": "0244252f-95fb-4cd2-abc2-d07ade6013b5",
   "metadata": {},
   "source": [
    "Q7 Write the reason due to which following errors are raised:\n",
    "a. EOFError\n",
    "b. FloatingPointError\n",
    "c. IndexError\n",
    "d. MemoryError\n",
    "e. OverflowError\n",
    "f. TabError\n",
    "g. ValueError\n",
    "\n",
    "a. EOFError\n",
    "Reason: Raised when the input() function hits an end-of-file (EOF) condition without reading any data. This typically occurs when you're trying to read input from a file or stream and there's no more data to read.\n",
    "\n",
    "b. FloatingPointError\n",
    "Reason: Raised when a floating-point operation fails. This error is not commonly encountered because most floating-point exceptions are handled internally by Python and don’t explicitly raise this error. It typically occurs in contexts where a floating-point operation needs special handling (e.g., in numerical libraries).\n",
    "\n",
    "c. IndexError\n",
    "Reason: Raised when you try to access an index that is out of the range of a sequence, such as a list, tuple, or string.\n",
    "\n",
    "d. MemoryError\n",
    "Reason: Raised when an operation runs out of memory, typically during the allocation of a large data structure. Python handles most memory management automatically, so this error occurs in extreme cases where there isn't enough memory to allocate for an operation.\n",
    "\n",
    "e. OverflowError\n",
    "Reason: Raised when a mathematical operation exceeds the limits for a numeric type. In Python, this is most commonly encountered with large integers in older versions, though Python’s int type now handles arbitrarily large values. It's more relevant for operations on floating-point numbers or certain types like int in other languages or specific libraries.\n",
    "\n",
    "f. TabError\n",
    "Reason: Raised when inconsistent use of tabs and spaces is found in the indentation of code. Python requires consistent indentation, so mixing tabs and spaces can lead to this error.\n",
    "\n",
    "g. ValueError\n",
    "Reason: Raised when a function receives an argument of the correct type but with an inappropriate value. This is common when converting data types or working with specific formats.\n"
   ]
  },
  {
   "cell_type": "code",
   "execution_count": 1,
   "id": "8c054800-fabc-4ab5-bbd9-0d16866238fc",
   "metadata": {},
   "outputs": [
    {
     "name": "stdin",
     "output_type": "stream",
     "text": [
      "Enter the first number:  10\n",
      "Enter the second number:  22\n"
     ]
    },
    {
     "name": "stdout",
     "output_type": "stream",
     "text": [
      "The division of 10.0 and 22.0 is 0.45454545454545453\n"
     ]
    }
   ],
   "source": [
    "'''Q8 Write code for the following given scenario and add try-exception block to it.\n",
    "a. Program to divide two numbers\n",
    "b. Program to convert a string to an integer\n",
    "c. Program to access an element in a list\n",
    "d. Program to handle a specific exception\n",
    "e. Program to handle any exception'''\n",
    "\n",
    "# a. Program to divide two numbers\n",
    "try:\n",
    "    a=float(input(\"Enter the first number: \"))\n",
    "    b=float(input(\"Enter the second number: \"))\n",
    "    c=a/b\n",
    "    print(f\"The division of {a} and {b} is {c}\")\n",
    "except ZeroDivisionError:\n",
    "    print(\"Cannot divide by zero!\")\n",
    "\n"
   ]
  },
  {
   "cell_type": "code",
   "execution_count": 7,
   "id": "cc64e332-2c4c-4e9b-a2e2-17147f01fb72",
   "metadata": {},
   "outputs": [
    {
     "name": "stdin",
     "output_type": "stream",
     "text": [
      "The string is : 10\n"
     ]
    },
    {
     "name": "stdout",
     "output_type": "stream",
     "text": [
      "The integer value is 10\n"
     ]
    }
   ],
   "source": [
    "# b. Program to convert a string to an integer\n",
    "try:\n",
    "    str=input(\"The string is :\")\n",
    "    inte=int(str)\n",
    "    print(f\"The integer value is {inte}\")\n",
    "except ValueError:\n",
    "    print(\"The alphabetical or alphanumeric string can not be converted into integer\")\n",
    "\n"
   ]
  },
  {
   "cell_type": "code",
   "execution_count": 9,
   "id": "205e9b7c-03cf-4fcc-8633-8f359b8c5be6",
   "metadata": {},
   "outputs": [
    {
     "name": "stdin",
     "output_type": "stream",
     "text": [
      "Enter the index of the element you want 3\n"
     ]
    },
    {
     "name": "stdout",
     "output_type": "stream",
     "text": [
      "The element at index 3 is 40\n"
     ]
    }
   ],
   "source": [
    "# c. Program to access an element in a list\n",
    "try:\n",
    "    lst=[10, 20, 30, 40, 50]\n",
    "    ind=int(input(\"Enter the index of the element you want\"))\n",
    "    a=lst[ind]\n",
    "    print(f\"The element at index {ind} is {a}\")\n",
    "except IndexError:\n",
    "    print(\"The index is out of range\")\n",
    "\n"
   ]
  },
  {
   "cell_type": "code",
   "execution_count": 11,
   "id": "64e8fc5f-7736-4f0a-9389-55e70ab1d552",
   "metadata": {},
   "outputs": [
    {
     "name": "stdin",
     "output_type": "stream",
     "text": [
      "Enter a :  50\n",
      "Enter b :  0\n"
     ]
    },
    {
     "name": "stdout",
     "output_type": "stream",
     "text": [
      "Error: You can't divide by zero \n"
     ]
    }
   ],
   "source": [
    "# d. Program to handle a specific exception\n",
    "try:\n",
    "    a=int(input(\"Enter a : \"))\n",
    "    b=int(input(\"Enter b : \"))\n",
    "    x= a/b\n",
    "    print(f\"The division of {a} and {b} is {x}\")\n",
    "except ZeroDivisionError:\n",
    "    print(\"Error: You can't divide by zero \")\n",
    "\n"
   ]
  },
  {
   "cell_type": "code",
   "execution_count": 13,
   "id": "57487796-b841-4872-9ece-4854ada7191a",
   "metadata": {},
   "outputs": [
    {
     "name": "stdin",
     "output_type": "stream",
     "text": [
      "Enter a :  53\n",
      "Enter b :  0\n"
     ]
    },
    {
     "name": "stdout",
     "output_type": "stream",
     "text": [
      "There is an error  division by zero\n"
     ]
    }
   ],
   "source": [
    "# e. Program to handle any exception\n",
    "try:\n",
    "    a=int(input(\"Enter a : \"))\n",
    "    b=int(input(\"Enter b : \"))\n",
    "    x= a/b\n",
    "    print(f\"The division of {a} and {b} is {x}\")\n",
    "except Exception as e:\n",
    "    print(\"There is an error \",e)"
   ]
  },
  {
   "cell_type": "code",
   "execution_count": null,
   "id": "77e2a03d-6cc0-4518-a867-b17e71df44d7",
   "metadata": {},
   "outputs": [],
   "source": []
  }
 ],
 "metadata": {
  "kernelspec": {
   "display_name": "Python 3 (ipykernel)",
   "language": "python",
   "name": "python3"
  },
  "language_info": {
   "codemirror_mode": {
    "name": "ipython",
    "version": 3
   },
   "file_extension": ".py",
   "mimetype": "text/x-python",
   "name": "python",
   "nbconvert_exporter": "python",
   "pygments_lexer": "ipython3",
   "version": "3.12.4"
  }
 },
 "nbformat": 4,
 "nbformat_minor": 5
}
